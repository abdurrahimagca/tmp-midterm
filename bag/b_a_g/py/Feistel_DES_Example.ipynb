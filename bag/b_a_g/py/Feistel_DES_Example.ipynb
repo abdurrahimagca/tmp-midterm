{
  "cells": [
    {
      "cell_type": "markdown",
      "metadata": {},
      "source": [
        "# \ud83d\udd10 Feistel Cipher + Basit DES Mant\u0131\u011f\u0131 ile \u015eifreleme\n",
        "Bu notebook, Feistel \u015fifre yap\u0131s\u0131n\u0131 ve basitle\u015ftirilmi\u015f bir DES algoritmas\u0131n\u0131 Python ile s\u0131f\u0131rdan uygular. T\u00fcm i\u015flemler ad\u0131m ad\u0131m a\u00e7\u0131klamal\u0131d\u0131r."
      ]
    },
    {
      "cell_type": "code",
      "execution_count": null,
      "metadata": {},
      "outputs": [],
      "source": [
        "import random\n",
        "\n",
        "def xor(a: int, b: int, bits=32) -> int:\n",
        "    return a ^ b\n",
        "\n",
        "# S-box (tek tablo)\n",
        "S_BOX = [\n",
        "    [0xE, 0x4, 0xD, 0x1,\n",
        "     0x2, 0xF, 0xB, 0x8,\n",
        "     0x3, 0xA, 0x6, 0xC,\n",
        "     0x5, 0x9, 0x0, 0x7]\n",
        "]\n",
        "\n",
        "def apply_sbox(input32: int) -> int:\n",
        "    output = 0\n",
        "    for i in range(8):\n",
        "        shift = 28 - 4*i\n",
        "        nibble = (input32 >> shift) & 0xF\n",
        "        substituted = S_BOX[0][nibble]\n",
        "        output = (output << 4) | substituted\n",
        "    return output\n",
        "\n",
        "def permute(input32: int) -> int:\n",
        "    return input32\n",
        "\n",
        "def f_function(right: int, subkey: int) -> int:\n",
        "    return permute(apply_sbox(xor(right, subkey)))\n",
        "\n",
        "def split_block(block: bytes) -> tuple:\n",
        "    full = int.from_bytes(block, 'big')\n",
        "    left = (full >> 32) & 0xFFFFFFFF\n",
        "    right = full & 0xFFFFFFFF\n",
        "    return left, right\n",
        "\n",
        "def join_block(left: int, right: int) -> bytes:\n",
        "    full = (left << 32) | right\n",
        "    return full.to_bytes(8, 'big')\n",
        "\n",
        "def generate_round_keys(main_key: int, rounds: int = 16) -> list:\n",
        "    return [main_key for _ in range(rounds)]\n",
        "\n",
        "def feistel_encrypt(block: bytes, key: int, rounds: int = 16) -> bytes:\n",
        "    left, right = split_block(block)\n",
        "    round_keys = generate_round_keys(key, rounds)\n",
        "    for i in range(rounds):\n",
        "        new_left = right\n",
        "        right = xor(left, f_function(right, round_keys[i]))\n",
        "        left = new_left\n",
        "    return join_block(right, left)\n",
        "\n",
        "def feistel_decrypt(block: bytes, key: int, rounds: int = 16) -> bytes:\n",
        "    right, left = split_block(block)\n",
        "    round_keys = generate_round_keys(key, rounds)\n",
        "    for i in reversed(range(rounds)):\n",
        "        new_right = left\n",
        "        left = xor(right, f_function(left, round_keys[i]))\n",
        "        right = new_right\n",
        "    return join_block(left, right)"
      ]
    },
    {
      "cell_type": "code",
      "execution_count": null,
      "metadata": {},
      "outputs": [],
      "source": [
        "# \u00d6rnek demo\n",
        "plaintext = b\"APO123!!\"\n",
        "key = random.getrandbits(32)\n",
        "\n",
        "print(\"Orijinal     :\", plaintext)\n",
        "encrypted = feistel_encrypt(plaintext, key)\n",
        "print(\"\u015eifreli (hex):\", encrypted.hex())\n",
        "decrypted = feistel_decrypt(encrypted, key)\n",
        "print(\"\u00c7\u00f6z\u00fclm\u00fc\u015f     :\", decrypted)\n",
        "\n",
        "assert decrypted == plaintext"
      ]
    }
  ],
  "metadata": {
    "kernelspec": {
      "display_name": "Python 3",
      "language": "python",
      "name": "python3"
    },
    "language_info": {
      "name": "python",
      "version": "3.10"
    }
  },
  "nbformat": 4,
  "nbformat_minor": 5
}