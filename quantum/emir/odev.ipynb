{
 "cells": [
  {
   "cell_type": "markdown",
   "id": "7673a554",
   "metadata": {},
   "source": [
    "# Kuantumsal Hesaplamanın Temelleri - Vize Ödevi\n",
    "\n",
    "| Öğrenci Bilgileri |                |\n",
    "|-------------------|----------------|\n",
    "| İsim Soyisim     | Emir Büyük |  \n",
    "| Öğrenci No       | 213405019    |\n",
    "\n",
    "\n",
    "## SORU 1\n",
    "### Soru 1.a\n",
    "\n",
    "Verilen matrisler:\n",
    "\n",
    "$$\n",
    "P = \\begin{pmatrix}\n",
    "1 & 0 & -i \\\\\n",
    "0 & 1 & 0 \\\\\n",
    "i & 0 & 1\n",
    "\\end{pmatrix}, \\quad\n",
    "Q = \\begin{pmatrix}\n",
    "2 & 1 \\\\\n",
    "-1 & 3\n",
    "\\end{pmatrix}\n",
    "$$\n",
    "\n",
    "$$ 1.  P \\otimes Q  Hesaplama $$\n",
    "\n",
    "Kronecker çarpımı, her P_{ij} elemanının tüm Q matrisiyle çarpılmasıdır:\n",
    "\n",
    "$$\n",
    "P \\otimes Q =\n",
    "\\begin{pmatrix}\n",
    "1 \\cdot Q & 0 \\cdot Q & -i \\cdot Q \\\\\n",
    "0 \\cdot Q & 1 \\cdot Q & 0 \\cdot Q \\\\\n",
    "i \\cdot Q & 0 \\cdot Q & 1 \\cdot Q\n",
    "\\end{pmatrix}\n",
    "$$\n",
    "\n",
    "Yani:\n",
    "\n",
    "$$\n",
    "P \\otimes Q =\n",
    "\\begin{pmatrix}\n",
    "2 & 1 & 0 & 0 & -2i & -i \\\\\n",
    "-1 & 3 & 0 & 0 & i & -3i \\\\\n",
    "0 & 0 & 2 & 1 & 0 & 0 \\\\\n",
    "0 & 0 & -1 & 3 & 0 & 0 \\\\\n",
    "2i & i & 0 & 0 & 2 & 1 \\\\\n",
    "-i & 3i & 0 & 0 & -1 & 3\n",
    "\\end{pmatrix}\n",
    "$$\n",
    "\n",
    "$$ 2. Q \\otimes P Hesaplama $$\n",
    "\n",
    "Benzer şekilde:\n",
    "\n",
    "$$\n",
    "Q \\otimes P =\n",
    "\\begin{pmatrix}\n",
    "2 \\cdot P & 1 \\cdot P \\\\\n",
    "-1 \\cdot P & 3 \\cdot P\n",
    "\\end{pmatrix}\n",
    "$$\n",
    "\n",
    "Yani:\n",
    "\n",
    "$$\n",
    "Q \\otimes P =\n",
    "\\begin{pmatrix}\n",
    "2 & 0 & -2i & 1 & 0 & -i \\\\\n",
    "0 & 2 & 0 & 0 & 1 & 0 \\\\\n",
    "2i & 0 & 2 & i & 0 & 1 \\\\\n",
    "-1 & 0 & i & 3 & 0 & -3i \\\\\n",
    "0 & -1 & 0 & 0 & 3 & 0 \\\\\n",
    "-i & 0 & -1 & 3i & 0 & 3\n",
    "\\end{pmatrix}\n",
    "$$\n",
    "\n",
    "### Soru 1.b"
   ]
  },
  {
   "cell_type": "code",
   "execution_count": 24,
   "id": "aaa73cba",
   "metadata": {},
   "outputs": [
    {
     "name": "stdout",
     "output_type": "stream",
     "text": [
      "Raw Latex:\n",
      "P \\otimes Q:\n",
      "\\begin{pmatrix}\n",
      "2.00+0.00j & 1.00+0.00j & 0.00+0.00j & 0.00+0.00j & 0.00+-2.00i & 0.00+-1.00i \\\\\n",
      "-1.00+0.00j & 3.00+0.00j & -0.00+0.00j & 0.00+0.00j & 0.00+1.00i & 0.00+-3.00i \\\\\n",
      "0.00+0.00j & 0.00+0.00j & 2.00+0.00j & 1.00+0.00j & 0.00+0.00j & 0.00+0.00j \\\\\n",
      "-0.00+0.00j & 0.00+0.00j & -1.00+0.00j & 3.00+0.00j & -0.00+0.00j & 0.00+0.00j \\\\\n",
      "0.00+2.00i & 0.00+1.00i & 0.00+0.00j & 0.00+0.00j & 2.00+0.00j & 1.00+0.00j \\\\\n",
      "-0.00+-1.00i & 0.00+3.00i & -0.00+0.00j & 0.00+0.00j & -1.00+0.00j & 3.00+0.00j \\\\\n",
      "\\end{pmatrix}\n",
      "\n",
      "Q \\otimes P:\n",
      "\\begin{pmatrix}\n",
      "2.00+0.00j & 0.00+0.00j & 0.00+-2.00i & 1.00+0.00j & 0.00+0.00j & 0.00+-1.00i \\\\\n",
      "0.00+0.00j & 2.00+0.00j & 0.00+0.00j & 0.00+0.00j & 1.00+0.00j & 0.00+0.00j \\\\\n",
      "0.00+2.00i & 0.00+0.00j & 2.00+0.00j & 0.00+1.00i & 0.00+0.00j & 1.00+0.00j \\\\\n",
      "-1.00+0.00j & -0.00+0.00j & 0.00+1.00i & 3.00+0.00j & 0.00+0.00j & 0.00+-3.00i \\\\\n",
      "-0.00+0.00j & -1.00+0.00j & -0.00+0.00j & 0.00+0.00j & 3.00+0.00j & 0.00+0.00j \\\\\n",
      "-0.00+-1.00i & -0.00+0.00j & -1.00+0.00j & 0.00+3.00i & 0.00+0.00j & 3.00+0.00j \\\\\n",
      "\\end{pmatrix}\n",
      "\n",
      "\n",
      "\n"
     ]
    },
    {
     "data": {
      "text/latex": [
       "$\\displaystyle P \\otimes Q = \\begin{pmatrix}\n",
       "2.00+0.00j & 1.00+0.00j & 0.00+0.00j & 0.00+0.00j & 0.00+-2.00i & 0.00+-1.00i \\\\\n",
       "-1.00+0.00j & 3.00+0.00j & -0.00+0.00j & 0.00+0.00j & 0.00+1.00i & 0.00+-3.00i \\\\\n",
       "0.00+0.00j & 0.00+0.00j & 2.00+0.00j & 1.00+0.00j & 0.00+0.00j & 0.00+0.00j \\\\\n",
       "-0.00+0.00j & 0.00+0.00j & -1.00+0.00j & 3.00+0.00j & -0.00+0.00j & 0.00+0.00j \\\\\n",
       "0.00+2.00i & 0.00+1.00i & 0.00+0.00j & 0.00+0.00j & 2.00+0.00j & 1.00+0.00j \\\\\n",
       "-0.00+-1.00i & 0.00+3.00i & -0.00+0.00j & 0.00+0.00j & -1.00+0.00j & 3.00+0.00j \\\\\n",
       "\\end{pmatrix}$"
      ],
      "text/plain": [
       "<IPython.core.display.Math object>"
      ]
     },
     "metadata": {},
     "output_type": "display_data"
    },
    {
     "data": {
      "text/latex": [
       "$\\displaystyle Q \\otimes P = \\begin{pmatrix}\n",
       "2.00+0.00j & 0.00+0.00j & 0.00+-2.00i & 1.00+0.00j & 0.00+0.00j & 0.00+-1.00i \\\\\n",
       "0.00+0.00j & 2.00+0.00j & 0.00+0.00j & 0.00+0.00j & 1.00+0.00j & 0.00+0.00j \\\\\n",
       "0.00+2.00i & 0.00+0.00j & 2.00+0.00j & 0.00+1.00i & 0.00+0.00j & 1.00+0.00j \\\\\n",
       "-1.00+0.00j & -0.00+0.00j & 0.00+1.00i & 3.00+0.00j & 0.00+0.00j & 0.00+-3.00i \\\\\n",
       "-0.00+0.00j & -1.00+0.00j & -0.00+0.00j & 0.00+0.00j & 3.00+0.00j & 0.00+0.00j \\\\\n",
       "-0.00+-1.00i & -0.00+0.00j & -1.00+0.00j & 0.00+3.00i & 0.00+0.00j & 3.00+0.00j \\\\\n",
       "\\end{pmatrix}$"
      ],
      "text/plain": [
       "<IPython.core.display.Math object>"
      ]
     },
     "metadata": {},
     "output_type": "display_data"
    }
   ],
   "source": [
    "import numpy as np\n",
    "from qiskit.quantum_info import Operator\n",
    "from IPython.display import display, Math\n",
    "\n",
    "# Matrisler\n",
    "P = np.array([\n",
    "    [1, 0, -1j],\n",
    "    [0, 1, 0],\n",
    "    [1j, 0, 1]\n",
    "])\n",
    "\n",
    "Q = np.array([\n",
    "    [2, 1],\n",
    "    [-1, 3]\n",
    "])\n",
    "\n",
    "P_tensor_Q = np.kron(P, Q)\n",
    "Q_tensor_P = np.kron(Q, P)\n",
    "\n",
    "def latex_matrix(mat):\n",
    "    latex_str = \"\\\\begin{pmatrix}\\n\"\n",
    "    for row in mat:\n",
    "        row_str = \" & \".join(\n",
    "            f\"{elem:.2f}\" if np.isreal(elem) \n",
    "            else f\"{elem.real:.2f}+{elem.imag:.2f}i\" \n",
    "            for elem in row\n",
    "        )\n",
    "        latex_str += row_str + \" \\\\\\\\\\n\"\n",
    "    latex_str += \"\\\\end{pmatrix}\"\n",
    "    return latex_str\n",
    "\n",
    "print(\"Raw Latex:\")\n",
    "print(\"P \\\\otimes Q:\")\n",
    "print(latex_matrix(P_tensor_Q))\n",
    "\n",
    "print(\"\\nQ \\\\otimes P:\")\n",
    "print(latex_matrix(Q_tensor_P))\n",
    "print(\"\\n\\n\")\n",
    "display(Math(r\"P \\otimes Q = \" + latex_matrix(P_tensor_Q)))\n",
    "display(Math(r\"Q \\otimes P = \" + latex_matrix(Q_tensor_P)))\n"
   ]
  },
  {
   "cell_type": "markdown",
   "id": "f179c438",
   "metadata": {},
   "source": [
    "### Soru 1.c\n",
    "\n",
    "Özdeğerler, matrisin karakteristik polinomu çözülerek bulunur:\n",
    "\n",
    "det(A - λI) = 0\n",
    "\n",
    "Bu denklemde:\n",
    "- A: İncelenen matris\n",
    "- λ: Özdeğer (eigenvalue)\n",
    "- I: Birim matris\n"
   ]
  },
  {
   "cell_type": "code",
   "execution_count": 25,
   "id": "83a527c8",
   "metadata": {},
   "outputs": [],
   "source": [
    "# P ⊗ Q ve Q ⊗ P için özdeğer ve özvektör hesaplamaları\n",
    "eigvals_PQ, eigvecs_PQ = np.linalg.eig(P_tensor_Q)\n",
    "eigvals_QP, eigvecs_QP = np.linalg.eig(Q_tensor_P)\n"
   ]
  },
  {
   "cell_type": "markdown",
   "id": "e5a0c36e",
   "metadata": {},
   "source": [
    "Elde edilen özdeğerler matrisin spektral özelliklerini gösterir.  \n",
    "Her özdeğer, matrisin uygulandığı bir vektörü sadece ölçeklediği katsayıyı temsil eder.\n"
   ]
  },
  {
   "cell_type": "code",
   "execution_count": 26,
   "id": "02afa3d4",
   "metadata": {},
   "outputs": [
    {
     "name": "stdout",
     "output_type": "stream",
     "text": [
      "P ⊗ Q Özdeğerler:\n",
      "[2.89656384e-16-5.58037218e-17j 5.00000000e+00+1.73205081e+00j\n",
      " 5.00000000e+00-1.73205081e+00j 1.83882365e-16-2.86814819e-17j\n",
      " 2.50000000e+00+8.66025404e-01j 2.50000000e+00-8.66025404e-01j]\n",
      "\n",
      "Q ⊗ P Özdeğerler:\n",
      "[7.1865236e-16-8.04320785e-17j 5.0000000e+00+1.73205081e+00j\n",
      " 5.0000000e+00-1.73205081e+00j 2.5000000e+00-8.66025404e-01j\n",
      " 2.5000000e+00+8.66025404e-01j 1.0170596e-18+1.11127593e-17j]\n"
     ]
    }
   ],
   "source": [
    "print(\"P ⊗ Q Özdeğerler:\")\n",
    "print(eigvals_PQ)\n",
    "\n",
    "print(\"\\nQ ⊗ P Özdeğerler:\")\n",
    "print(eigvals_QP)\n"
   ]
  },
  {
   "cell_type": "markdown",
   "id": "1717aa03",
   "metadata": {},
   "source": [
    "Matrislerin unitary olup olmadığı, aşağıdaki koşul ile kontrol edilir:\n",
    "\n",
    "Bir matris U için:\n",
    "\n",
    "Uᴴ · U = I\n",
    "\n",
    "yani matrisin hermitiyen transpozu ile çarpımı birim matris olmalıdır.\n",
    "\n",
    "Eğer bu eşitlik sağlanıyorsa matris unitary'dir.\n"
   ]
  },
  {
   "cell_type": "code",
   "execution_count": 27,
   "id": "4284467e",
   "metadata": {},
   "outputs": [
    {
     "name": "stdout",
     "output_type": "stream",
     "text": [
      "\n",
      "P ⊗ Q unitary mi?: False\n",
      "Q ⊗ P unitary mi?: False\n"
     ]
    }
   ],
   "source": [
    "def is_unitary(mat):\n",
    "    return np.allclose(mat.conj().T @ mat, np.eye(mat.shape[0]))\n",
    "\n",
    "print(\"\\nP ⊗ Q unitary mi?:\", is_unitary(P_tensor_Q))\n",
    "print(\"Q ⊗ P unitary mi?:\", is_unitary(Q_tensor_P))\n"
   ]
  },
  {
   "cell_type": "markdown",
   "id": "12e2269a",
   "metadata": {},
   "source": [
    "Sonuç olarak:  \n",
    "- P ⊗ Q ve Q ⊗ P matrislerinin özdeğerleri bulunmuştur.  \n",
    "- Her iki matris de unitary değildir.\n"
   ]
  },
  {
   "cell_type": "markdown",
   "id": "9c86be2f",
   "metadata": {},
   "source": [
    "## Soru 2\n",
    "### Soru 2.a\n",
    "\n",
    "Bir kuantum sisteminin yoğunluk matrisi şu şekilde hesaplanır:\n",
    "\n",
    "Sistem %40 olasılıkla |+⟩, %60 olasılıkla |-⟩ durumundadır.\n",
    "\n",
    "|+⟩ durumu: (1/√2) (|0⟩ + |1⟩) → vektör olarak [1/√2, 1/√2]  \n",
    "|-⟩ durumu: (1/√2) (|0⟩ - |1⟩) → vektör olarak [1/√2, -1/√2]\n",
    "\n",
    "|+⟩ ve |-⟩ durumlarının yoğunluk matrisleri:\n",
    "\n",
    "ρ₊ = |+⟩⟨+|  \n",
    "ρ₋ = |-⟩⟨-|\n",
    "\n",
    "Genel yoğunluk matrisi:\n",
    "\n",
    "ρ = 0.4 * ρ₊ + 0.6 * ρ₋\n",
    "\n",
    "Bu işlemleri yaparsak:\n",
    "\n",
    "ρ₊ = (1/2) * [[1, 1], [1, 1]]  \n",
    "ρ₋ = (1/2) * [[1, -1], [-1, 1]]\n",
    "\n",
    "Sonuç:\n",
    "\n",
    "ρ = [[0.5, -0.1],  \n",
    "   [-0.1, 0.5]]\n",
    "\n"
   ]
  },
  {
   "cell_type": "markdown",
   "id": "af8a760e",
   "metadata": {},
   "source": [
    "### Soru 2.b\n",
    "Yooğunluk matrisinin özdeğerleri, sistemin kararlılığını ve olasılık dağılımını gösterir. Yoğunluk matrisini oluşturalım."
   ]
  },
  {
   "cell_type": "code",
   "execution_count": 28,
   "id": "b849ef4a",
   "metadata": {},
   "outputs": [
    {
     "name": "stdout",
     "output_type": "stream",
     "text": [
      "Yoğunluk Matrisi:\n",
      "[[ 0.5 -0.1]\n",
      " [-0.1  0.5]]\n"
     ]
    }
   ],
   "source": [
    "import numpy as np\n",
    "\n",
    "# |+> ve |-> durumları\n",
    "plus = np.array([1, 1]) / np.sqrt(2)\n",
    "minus = np.array([1, -1]) / np.sqrt(2)\n",
    "\n",
    "# Yoğunluk operatörleri\n",
    "rho_plus = np.outer(plus, plus.conj())\n",
    "rho_minus = np.outer(minus, minus.conj())\n",
    "\n",
    "# Genel yoğunluk matrisi\n",
    "rho = 0.4 * rho_plus + 0.6 * rho_minus\n",
    "\n",
    "print(\"Yoğunluk Matrisi:\")\n",
    "print(rho)\n"
   ]
  },
  {
   "cell_type": "markdown",
   "id": "34126b1f",
   "metadata": {},
   "source": [
    "Şimdi yoğunluk matrisinin izini (trace) hesaplıyoruz."
   ]
  },
  {
   "cell_type": "code",
   "execution_count": 29,
   "id": "799ab547",
   "metadata": {},
   "outputs": [
    {
     "name": "stdout",
     "output_type": "stream",
     "text": [
      "\n",
      "Trace (İz): 0.9999999999999998\n"
     ]
    }
   ],
   "source": [
    "#\n",
    "trace_rho = np.trace(rho)\n",
    "print(\"\\nTrace (İz):\", trace_rho)\n"
   ]
  },
  {
   "cell_type": "markdown",
   "id": "e394584f",
   "metadata": {},
   "source": [
    "Yoğunluk matrisinin saflığını (purity) hesaplayalım.\n"
   ]
  },
  {
   "cell_type": "code",
   "execution_count": 30,
   "id": "9144643d",
   "metadata": {},
   "outputs": [
    {
     "name": "stdout",
     "output_type": "stream",
     "text": [
      "\n",
      "Purity (Saflık): 0.5199999999999998\n"
     ]
    }
   ],
   "source": [
    "# Saflık (purity)\n",
    "purity_rho = np.trace(np.dot(rho, rho))\n",
    "print(\"\\nPurity (Saflık):\", purity_rho)\n"
   ]
  },
  {
   "cell_type": "markdown",
   "id": "25547a5b",
   "metadata": {},
   "source": [
    "Şimdi von Neumann entropisini hesaplıyoruz."
   ]
  },
  {
   "cell_type": "code",
   "execution_count": 31,
   "id": "251ce5d8",
   "metadata": {},
   "outputs": [
    {
     "name": "stdout",
     "output_type": "stream",
     "text": [
      "\n",
      "Von Neumann Entropisi: 0.9709505944546688\n"
     ]
    }
   ],
   "source": [
    "# Von Neumann Entropisi hesaplama\n",
    "def von_neumann_entropy(rho):\n",
    "    eigenvals = np.linalg.eigvalsh(rho)\n",
    "    eigenvals = eigenvals[eigenvals > 0]  # log(0) sorun olmasın diye\n",
    "    return -np.sum(eigenvals * np.log2(eigenvals))\n",
    "\n",
    "entropy_rho = von_neumann_entropy(rho)\n",
    "print(\"\\nVon Neumann Entropisi:\", entropy_rho)\n"
   ]
  },
  {
   "cell_type": "markdown",
   "id": "6c361e3a",
   "metadata": {},
   "source": [
    "### Soru 2.c\n",
    "\n",
    "Yoğunluk matrisini Bloch küresi üzerinde temsil edelim.\n",
    "\n",
    "Bir yoğunluk matrisinin Bloch vektörü (r) şu şekilde bulunur:\n",
    "\n",
    "r = (⟨σₓ⟩, ⟨σᵧ⟩, ⟨σ_z⟩)\n",
    "\n",
    "Burada ⟨σ⟩ beklenti değeridir ve Tr(ρσ) ile hesaplanır.\n",
    "\n",
    "Pauli matrisleri:\n",
    "- σₓ = [[0, 1], [1, 0]]\n",
    "- σᵧ = [[0, -i], [i, 0]]\n",
    "- σ_z = [[1, 0], [0, -1]]\n"
   ]
  },
  {
   "cell_type": "code",
   "execution_count": 32,
   "id": "7bcf0a13",
   "metadata": {},
   "outputs": [
    {
     "name": "stdout",
     "output_type": "stream",
     "text": [
      "Bloch Vektörü (r): [-0.2  0.   0. ]\n"
     ]
    }
   ],
   "source": [
    "# Pauli matrisleri\n",
    "sigma_x = np.array([[0, 1], [1, 0]])\n",
    "sigma_y = np.array([[0, -1j], [1j, 0]])\n",
    "sigma_z = np.array([[1, 0], [0, -1]])\n",
    "\n",
    "# Beklenti değerleri\n",
    "expectation_x = np.trace(np.dot(rho, sigma_x)).real\n",
    "expectation_y = np.trace(np.dot(rho, sigma_y)).real\n",
    "expectation_z = np.trace(np.dot(rho, sigma_z)).real\n",
    "\n",
    "bloch_vector = np.array([expectation_x, expectation_y, expectation_z])\n",
    "\n",
    "print(\"Bloch Vektörü (r):\", bloch_vector)\n"
   ]
  },
  {
   "cell_type": "markdown",
   "id": "04531c7d",
   "metadata": {},
   "source": [
    "Son olarak yoğunluk matrisinin özdeğerlerini bulup yorumlayalım."
   ]
  },
  {
   "cell_type": "code",
   "execution_count": 33,
   "id": "00d2c0f9",
   "metadata": {},
   "outputs": [
    {
     "name": "stdout",
     "output_type": "stream",
     "text": [
      "\n",
      "Yoğunluk Matrisi Özdeğerleri:\n",
      "[0.6 0.4]\n"
     ]
    }
   ],
   "source": [
    "# Özdeğer hesaplama\n",
    "eigvals_rho, eigvecs_rho = np.linalg.eig(rho)\n",
    "print(\"\\nYoğunluk Matrisi Özdeğerleri:\")\n",
    "print(eigvals_rho)"
   ]
  },
  {
   "cell_type": "markdown",
   "id": "159c97f6",
   "metadata": {},
   "source": [
    "Yoğunluk matrisinin özdeğerleri pozitif ve toplamları 1'dir.  \n",
    "Bu, matrisin geçerli bir kuantum durumu (density matrix) olduğunu gösterir.\n",
    "\n",
    "Eğer tüm özdeğerler 0 ve 1 dışında bir değer içeriyorsa, sistem karışık (mixed) haldedir.  \n",
    "Burada özdeğerler 0.5 civarında çıkacak, bu yüzden sistem saf bir durum değildir, karışık bir durumdadır."
   ]
  },
  {
   "cell_type": "markdown",
   "id": "cc93dba5",
   "metadata": {},
   "source": [
    "## SORU 3\n",
    "### Soru 3.a\n",
    "\n",
    "7 kübitlik bir kuantum devresi oluşturulacaktır.\n",
    "\n",
    "Her kübit için:\n",
    "- Hadamard (H) kapısı uygulanacak,\n",
    "- Sonrasında rastgele olarak Pauli-X (X) veya Pauli-Y (Y) kapısı uygulanacak,\n",
    "- Ardından tekrar Hadamard (H) kapısı uygulanacak.\n",
    "\n",
    "Bu adımlar her kübit için yapılacaktır."
   ]
  },
  {
   "cell_type": "code",
   "execution_count": 34,
   "id": "808477e8",
   "metadata": {},
   "outputs": [
    {
     "data": {
      "image/png": "[encoded data removed]",
      "text/plain": [
       "<Figure size 371.107x618.722 with 1 Axes>"
      ]
     },
     "execution_count": 34,
     "metadata": {},
     "output_type": "execute_result"
    }
   ],
   "source": [
    "from qiskit import QuantumCircuit\n",
    "import numpy as np\n",
    "\n",
    "# 7 kübitlik devre oluştur\n",
    "qc = QuantumCircuit(7)\n",
    "\n",
    "# Her kübite işlemleri uygula\n",
    "for qubit in range(7):\n",
    "    qc.h(qubit)  # Hadamard kapısı\n",
    "    if np.random.rand() < 0.5:\n",
    "        qc.x(qubit)  # Pauli-X kapısı\n",
    "    else:\n",
    "        qc.y(qubit)  # Pauli-Y kapısı\n",
    "    qc.h(qubit)  # Tekrar Hadamard kapısı\n",
    "\n",
    "# Devreyi çiz\n",
    "qc.draw('mpl')\n"
   ]
  },
  {
   "cell_type": "markdown",
   "id": "9da5d049",
   "metadata": {},
   "source": [
    "### Soru 3.b\n",
    "\n",
    "Şimdi devreyi Aer simülatörü ile 5000 kez çalıştırıp, sonuçları karşılaştıralım."
   ]
  },
  {
   "cell_type": "code",
   "execution_count": 35,
   "id": "5ab0f614",
   "metadata": {},
   "outputs": [
    {
     "name": "stdout",
     "output_type": "stream",
     "text": [
      "Ölçüm Sonuçları:\n",
      "{'1100000': 5000}\n"
     ]
    }
   ],
   "source": [
    "from qiskit_aer import Aer\n",
    "from qiskit import transpile\n",
    "\n",
    "qc.measure_all()\n",
    "\n",
    "simulator = Aer.get_backend('qasm_simulator')\n",
    "\n",
    "compiled_circuit = transpile(qc, simulator)\n",
    "\n",
    "job = simulator.run(compiled_circuit, shots=5000)\n",
    "result = job.result()\n",
    "\n",
    "counts = result.get_counts()\n",
    "\n",
    "print(\"Ölçüm Sonuçları:\")\n",
    "print(counts)\n"
   ]
  },
  {
   "cell_type": "markdown",
   "id": "b4de0f27",
   "metadata": {},
   "source": [
    "Pauli-X ve Pauli-Y kapılarının etkilediği kübitlerin ölçüm sonuçları gözlemlenebilir.\n",
    "\n",
    "- Pauli-X uygulanan kübitlerde bit flip (0 ↔ 1) etkisi daha belirgin olur.\n",
    "- Pauli-Y uygulanan kübitlerde hem bit flip hem de faz kayması etkileri olur.\n",
    "\n",
    "Bu yüzden dağılımlar arasında farklılık gözlemlenebilir."
   ]
  },
  {
   "cell_type": "markdown",
   "id": "188a0693",
   "metadata": {},
   "source": [
    "### Soru 3.c\n",
    "\n",
    "Şimdi devreye 3 adet CNOT kapısı ekleyerek kübitler arasında dolaşıklık (entanglement) oluşturalım.\n",
    "\n",
    "Dolaşıklığın varlığı, ölçüm sonuçlarının birbirine bağımlı hale gelmesiyle tespit edilebilir.\n",
    "\n",
    "Örneğin:\n",
    "- İki kübit dolaşıksa, birinin sonucu 0 ise diğeri de 0 çıkma eğiliminde olur (veya tam tersi 1-1).\n",
    "- Ölçüm sonuçları birbirinden bağımsız değilse dolaşıklık vardır.\n",
    "\n",
    "Şimdi CNOT kapılarını ekleyelim."
   ]
  },
  {
   "cell_type": "code",
   "execution_count": 36,
   "id": "5c82be09",
   "metadata": {},
   "outputs": [
    {
     "name": "stdout",
     "output_type": "stream",
     "text": [
      "Dolaşıklık ile Ölçüm Sonuçları:\n",
      "{'0001011': 5000}\n"
     ]
    }
   ],
   "source": [
    "\n",
    "qc = QuantumCircuit(7)\n",
    "\n",
    "for qubit in range(7):\n",
    "    qc.h(qubit)\n",
    "    if np.random.rand() < 0.5:\n",
    "        qc.x(qubit)\n",
    "    else:\n",
    "        qc.y(qubit)\n",
    "    qc.h(qubit)\n",
    "\n",
    "# 3 adet CNOT kapısı ekleyelim\n",
    "qc.cx(0, 1)\n",
    "qc.cx(2, 3)\n",
    "qc.cx(4, 5)\n",
    "\n",
    "qc.measure_all()\n",
    "\n",
    "simulator = Aer.get_backend('qasm_simulator')\n",
    "\n",
    "compiled_circuit = transpile(qc, simulator)\n",
    "\n",
    "job = simulator.run(compiled_circuit, shots=5000)\n",
    "result = job.result()\n",
    "\n",
    "counts_entangled = result.get_counts()\n",
    "\n",
    "print(\"Dolaşıklık ile Ölçüm Sonuçları:\")\n",
    "print(counts_entangled)\n"
   ]
  }
 ],
 "metadata": {
  "kernelspec": {
   "display_name": "Python 3",
   "language": "python",
   "name": "python3"
  },
  "language_info": {
   "codemirror_mode": {
    "name": "ipython",
    "version": 3
   },
   "file_extension": ".py",
   "mimetype": "text/x-python",
   "name": "python",
   "nbconvert_exporter": "python",
   "pygments_lexer": "ipython3",
   "version": "3.12.6"
  }
 },
 "nbformat": 4,
 "nbformat_minor": 5
}
